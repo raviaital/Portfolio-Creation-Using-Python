{
 "cells": [
  {
   "cell_type": "markdown",
   "id": "e068517e-750a-4778-bff6-422c728c8a3d",
   "metadata": {},
   "source": [
    "# Downside Measures: SemiDeviation, VaR and CVaR"
   ]
  },
  {
   "cell_type": "code",
   "execution_count": 2,
   "id": "82167b95-fc14-41c7-bba1-5a6c9e720cad",
   "metadata": {},
   "outputs": [],
   "source": [
    "import pandas as pd\n",
    "import portfolio_tool_kit as ptk\n",
    "%load_ext autoreload\n",
    "%autoreload 2\n",
    "%matplotlib inline"
   ]
  },
  {
   "cell_type": "code",
   "execution_count": 3,
   "id": "94ccd037-1258-4056-9368-b5624c3901d3",
   "metadata": {},
   "outputs": [],
   "source": [
    "def semideviation(r):\n",
    "    \"\"\"\n",
    "    Returns the semideviation aka negative semideviation of r\n",
    "    r must be a Series or a DataFrame, else raises a TypeError\n",
    "    \"\"\"\n",
    "    is_negative = r < 0\n",
    "    return r[is_negative].std(ddof=0)"
   ]
  },
  {
   "cell_type": "markdown",
   "id": "8c738e30-31bd-4026-a118-7bfb81d1fdfb",
   "metadata": {},
   "source": [
    "Std deviation gives the average spread, the average deviation from the mean. But of course it measures deviations on the upside as well as the downside. So return is higher than the average. That contributes towards a higher standard deviation. Well, we actually don't care, we're very happy, it's not really bad. What we're obviously concerned about is, when a return is lower than average. \n",
    "\n",
    "Semideviation gives the standard deviation for the subset which is less than zero."
   ]
  },
  {
   "cell_type": "code",
   "execution_count": 4,
   "id": "b43009b3-edaf-4ff5-8d71-7a054c856089",
   "metadata": {},
   "outputs": [],
   "source": [
    "hfi = ptk.get_hfi_returns()"
   ]
  },
  {
   "cell_type": "code",
   "execution_count": 5,
   "id": "57914746-b0c2-4219-b154-a89ff855a60a",
   "metadata": {},
   "outputs": [
    {
     "data": {
      "text/plain": [
       "Convertible Arbitrage     0.019540\n",
       "CTA Global                0.012443\n",
       "Distressed Securities     0.015185\n",
       "Emerging Markets          0.028039\n",
       "Equity Market Neutral     0.009566\n",
       "Event Driven              0.015429\n",
       "Fixed Income Arbitrage    0.017763\n",
       "Global Macro              0.006579\n",
       "Long/Short Equity         0.014051\n",
       "Merger Arbitrage          0.008875\n",
       "Relative Value            0.012244\n",
       "Short Selling             0.027283\n",
       "Funds Of Funds            0.012122\n",
       "dtype: float64"
      ]
     },
     "execution_count": 5,
     "metadata": {},
     "output_type": "execute_result"
    }
   ],
   "source": [
    "semideviation(hfi)"
   ]
  },
  {
   "cell_type": "code",
   "execution_count": 6,
   "id": "382132df-bb61-47c2-9120-8a39958e71c6",
   "metadata": {},
   "outputs": [
    {
     "data": {
      "text/plain": [
       "<= 0           NaN\n",
       "Lo 30     0.052313\n",
       "Med 40    0.048664\n",
       "Hi 30     0.042677\n",
       "Lo 20     0.052554\n",
       "Qnt 2     0.051307\n",
       "Qnt 3     0.049230\n",
       "Qnt 4     0.045560\n",
       "Hi 20     0.041823\n",
       "Lo 10     0.051772\n",
       "Dec 2     0.054149\n",
       "Dec 3     0.052887\n",
       "Dec 4     0.050073\n",
       "Dec 5     0.050604\n",
       "Dec 6     0.047933\n",
       "Dec 7     0.046854\n",
       "Dec 8     0.044467\n",
       "Dec 9     0.043912\n",
       "Hi 10     0.040245\n",
       "dtype: float64"
      ]
     },
     "execution_count": 6,
     "metadata": {},
     "output_type": "execute_result"
    }
   ],
   "source": [
    "ffme = ptk.get_ffme_returns()\n",
    "semideviation(ffme)"
   ]
  },
  {
   "cell_type": "markdown",
   "id": "dc6fd0e2-7584-4905-b686-a67c788a732e",
   "metadata": {},
   "source": [
    "Now let's copy semideviation to ptk"
   ]
  },
  {
   "cell_type": "code",
   "execution_count": 8,
   "id": "a088ad05-8811-4eff-8ee6-3192629370d6",
   "metadata": {},
   "outputs": [
    {
     "data": {
      "text/plain": [
       "Global Macro              0.006579\n",
       "Merger Arbitrage          0.008875\n",
       "Equity Market Neutral     0.009566\n",
       "Funds Of Funds            0.012122\n",
       "Relative Value            0.012244\n",
       "CTA Global                0.012443\n",
       "Long/Short Equity         0.014051\n",
       "Distressed Securities     0.015185\n",
       "Event Driven              0.015429\n",
       "Fixed Income Arbitrage    0.017763\n",
       "Convertible Arbitrage     0.019540\n",
       "Short Selling             0.027283\n",
       "Emerging Markets          0.028039\n",
       "dtype: float64"
      ]
     },
     "execution_count": 8,
     "metadata": {},
     "output_type": "execute_result"
    }
   ],
   "source": [
    "ptk.semideviation(hfi).sort_values()"
   ]
  },
  {
   "cell_type": "markdown",
   "id": "85d74b03-de4d-4e2e-a861-d2ca81a52a3a",
   "metadata": {},
   "source": [
    "## VaR and CVaR\n",
    "\n",
    "We'll look at three different ways to compute Value At Risk\n",
    "\n",
    "1. Historic VaR\n",
    "2. Parametric Gaussian VaR\n",
    "3. Modified (Cornish-Fisher) VaR\n"
   ]
  },
  {
   "cell_type": "markdown",
   "id": "0407aa06-a8d7-41c4-8240-325dd4fc6b8f",
   "metadata": {},
   "source": [
    "To compute the historic VaR at a certain level, say 5%, all we have to do is to find the number such that 5% of the returns fall below that number and 95% of the returns fall above that number. In other words, we want the 5 percentile return.\n",
    "\n",
    "Fortunately, numpy has a np.percentile function that computes exactly that."
   ]
  },
  {
   "cell_type": "code",
   "execution_count": 14,
   "id": "e7d1f0c8-fca8-4bf6-b846-500ffaaf5326",
   "metadata": {},
   "outputs": [],
   "source": [
    "import numpy as np\n",
    "def var_historic(r, level=5):\n",
    "    \"\"\"\n",
    "    Returns the historic Value at Risk at a specified level\n",
    "    i.e. returns the number such that \"level\" percent of the returns\n",
    "    fall below that number, and the (100-level) percent are above\n",
    "    \"\"\"\n",
    "    if isinstance(r, pd.DataFrame):\n",
    "        return r.aggregate(var_historic, level=level)\n",
    "    elif isinstance(r, pd.Series):\n",
    "        return -np.percentile(r, level)\n",
    "    else:\n",
    "        raise TypeError(\"Expected r to be a Series or DataFrame\")"
   ]
  },
  {
   "cell_type": "code",
   "execution_count": 15,
   "id": "268ed5b1-ee85-4fa7-9cdf-5ccb2ac9463b",
   "metadata": {},
   "outputs": [
    {
     "data": {
      "text/plain": [
       "Convertible Arbitrage     0.031776\n",
       "CTA Global                0.049542\n",
       "Distressed Securities     0.046654\n",
       "Emerging Markets          0.088466\n",
       "Equity Market Neutral     0.018000\n",
       "Event Driven              0.048612\n",
       "Fixed Income Arbitrage    0.041672\n",
       "Global Macro              0.024316\n",
       "Long/Short Equity         0.049558\n",
       "Merger Arbitrage          0.025336\n",
       "Relative Value            0.026660\n",
       "Short Selling             0.113576\n",
       "Funds Of Funds            0.039664\n",
       "dtype: float64"
      ]
     },
     "execution_count": 15,
     "metadata": {},
     "output_type": "execute_result"
    }
   ],
   "source": [
    "var_historic(hfi,1)"
   ]
  },
  {
   "cell_type": "code",
   "execution_count": 18,
   "id": "4215063b-945e-461a-b776-ba211b4d8c8b",
   "metadata": {},
   "outputs": [
    {
     "data": {
      "text/plain": [
       "Convertible Arbitrage     0.01576\n",
       "CTA Global                0.03169\n",
       "Distressed Securities     0.01966\n",
       "Emerging Markets          0.04247\n",
       "Equity Market Neutral     0.00814\n",
       "Event Driven              0.02535\n",
       "Fixed Income Arbitrage    0.00787\n",
       "Global Macro              0.01499\n",
       "Long/Short Equity         0.02598\n",
       "Merger Arbitrage          0.01047\n",
       "Relative Value            0.01174\n",
       "Short Selling             0.06783\n",
       "Funds Of Funds            0.02047\n",
       "dtype: float64"
      ]
     },
     "execution_count": 18,
     "metadata": {},
     "output_type": "execute_result"
    }
   ],
   "source": [
    "ptk.var_historic(hfi)"
   ]
  },
  {
   "cell_type": "markdown",
   "id": "f212c900-5ada-4d56-b2b0-fd98b06e8878",
   "metadata": {},
   "source": [
    "## Conditional VaR aka Beyond VaR\n",
    "\n",
    "All we need is to find the mean of the numbers that fell below the VaR!"
   ]
  },
  {
   "cell_type": "code",
   "execution_count": 24,
   "id": "73cfa969-6b37-4f10-8449-e5ec1caee9c3",
   "metadata": {},
   "outputs": [],
   "source": [
    "def cvar_historic(r, level=5):\n",
    "    \"\"\"\n",
    "    Computes CVaR of the series or dataframe\n",
    "    \"\"\"\n",
    "    if isinstance(r, pd.DataFrame):\n",
    "        return r.aggregate(cvar_historic, level=level)\n",
    "    elif isinstance(r, pd.Series):\n",
    "        is_beyond = r <= -var_historic(r, level=level)\n",
    "        return -r[is_beyond].mean()\n",
    "    else:\n",
    "        raise TypeError(\"Expected r to be a Series or DataFrame\")"
   ]
  },
  {
   "cell_type": "code",
   "execution_count": 25,
   "id": "324488ae-7416-4e26-a76e-244f29bb6319",
   "metadata": {},
   "outputs": [
    {
     "data": {
      "text/plain": [
       "Global Macro              0.029333\n",
       "Equity Market Neutral     0.036100\n",
       "Merger Arbitrage          0.036233\n",
       "Relative Value            0.052367\n",
       "CTA Global                0.054767\n",
       "Funds Of Funds            0.061133\n",
       "Long/Short Equity         0.061867\n",
       "Distressed Securities     0.070967\n",
       "Event Driven              0.071267\n",
       "Fixed Income Arbitrage    0.072467\n",
       "Convertible Arbitrage     0.086100\n",
       "Short Selling             0.123867\n",
       "Emerging Markets          0.141167\n",
       "dtype: float64"
      ]
     },
     "execution_count": 25,
     "metadata": {},
     "output_type": "execute_result"
    }
   ],
   "source": [
    "cvar_historic(hfi,1).sort_values()"
   ]
  },
  {
   "cell_type": "code",
   "execution_count": 27,
   "id": "5784beac-2acc-475a-b098-eb8fac8bf5ba",
   "metadata": {},
   "outputs": [
    {
     "data": {
      "text/plain": [
       "<= 0           NaN\n",
       "Lo 30     0.240525\n",
       "Med 40    0.231033\n",
       "Hi 30     0.208033\n",
       "Lo 20     0.239925\n",
       "Qnt 2     0.239108\n",
       "Qnt 3     0.233683\n",
       "Qnt 4     0.219875\n",
       "Hi 20     0.204500\n",
       "Lo 10     0.236950\n",
       "Dec 2     0.255225\n",
       "Dec 3     0.247025\n",
       "Dec 4     0.234417\n",
       "Dec 5     0.241983\n",
       "Dec 6     0.227392\n",
       "Dec 7     0.226892\n",
       "Dec 8     0.215792\n",
       "Dec 9     0.215925\n",
       "Hi 10     0.195233\n",
       "dtype: float64"
      ]
     },
     "execution_count": 27,
     "metadata": {},
     "output_type": "execute_result"
    }
   ],
   "source": [
    "ptk.cvar_historic(ffme,1)"
   ]
  },
  {
   "cell_type": "markdown",
   "id": "abdeec96-6884-46d5-acec-12f209477b99",
   "metadata": {},
   "source": [
    "## Parametric Gaussian VaR\n",
    "The idea behind this is very simple. If a set of returns is normally distributed, we know, for instance, that 50% of the returns are below the mean and 50% are above.\n",
    "\n",
    "We also know that approx two thirds of the returns lie within 1 standard deviation. That means one third lie beyond one standard deviation from the mean. Since the normal distribution is symmetric, approximately one sixth (approx 16%) lie below one standard deviation away from the mean. Therefore, if we know the mean and standard deviation and if we assume that the returns are normally distributed, the 16% VaR would be the mean minus one standard deviation.\n",
    "\n",
    "In general we can always convert a percentile point to a z-score (which is the number of standard deviations away from the mean that a number is). Therefore, if we can convert the VaR level (such as 1% or 5%) to a z-score, we can calculate the return level where that percent of returns lie below it.\n",
    "\n",
    "scipy.stat.norm contains a function ppf() which does exactly that. It takes a percentile such as 0.05 or 0.01 and gives you the z-score corresponding to that in the normal distribution.\n",
    "\n",
    "## Cornish-Fisher Modification\n",
    "The Cornish-Fisher modification is an elegant and simple adjustment.\n",
    "\n",
    "The z-score tells us how many standard deviations away from the mean we need to go to find the VaR. If the returns aren't normal, we know that z-score will give us an inaccurate number. The basic idea is that since we can observe the skewness and kurtosis of the data, we can adjust the z-score up or down to come up with a modifed z-score. e.g. intuitively, all other things being equal, if the skewness is negative, we'll decrease the z-score further down, and if the skewness is positive, we'll push it up.\n",
    "\n",
    "The adjusted z-score which we'll call $z_{cornishfisher}$ given by:\n",
    "\n",
    "$$ z_{cornishfisher} = z +\\frac{1}{6}(z^2-1)S + \\frac{1}{24}(z^3-3z)(K-3)-\\frac{1}{36}(2z^3-5z)S^2 $$\n",
    "\n"
   ]
  },
  {
   "cell_type": "code",
   "execution_count": 37,
   "id": "a5a343c4-40cb-4d0e-9dca-aacbfb6e3c2a",
   "metadata": {},
   "outputs": [],
   "source": [
    "import scipy.stats\n",
    "def var_gaussian(r, level=5, modified=False):\n",
    "    \"\"\"\n",
    "    Returns the Parametric Gaussian VaR of a Series or DataFrame\n",
    "    If \"modified\" is True, then the modified VaR is returned using the Cornish-Fisher modification\n",
    "    \"\"\"\n",
    "    # compute the Z score assuming it was Gaussian\n",
    "    z=scipy.stats.norm.ppf(level/100)\n",
    "    if modified:\n",
    "        # modify the Z score based on observed skewness and kurtosis\n",
    "        s = ptk.skewness(r)\n",
    "        k = ptk.kurtosis(r)\n",
    "        z = z + (z**2 -1)*s/6 + (z**3 - 3*z)*(k-3)/24 - (2*z**3 - 5*z)*(s**2)/36\n",
    "    return -(r.mean() + z*r.std(ddof=0))"
   ]
  },
  {
   "cell_type": "code",
   "execution_count": 38,
   "id": "230f4bbd-ed71-4667-a8a9-effec6faa3e7",
   "metadata": {},
   "outputs": [
    {
     "data": {
      "text/plain": [
       "Convertible Arbitrage     0.100100\n",
       "CTA Global                0.046612\n",
       "Distressed Securities     0.057506\n",
       "Emerging Markets          0.127977\n",
       "Equity Market Neutral     0.040248\n",
       "Event Driven              0.057035\n",
       "Fixed Income Arbitrage    0.060776\n",
       "Global Macro              0.022236\n",
       "Long/Short Equity         0.051614\n",
       "Merger Arbitrage          0.032882\n",
       "Relative Value            0.046398\n",
       "Short Selling             0.109810\n",
       "Funds Of Funds            0.050031\n",
       "dtype: float64"
      ]
     },
     "execution_count": 38,
     "metadata": {},
     "output_type": "execute_result"
    }
   ],
   "source": [
    "var_gaussian(hfi, 1, modified=True)"
   ]
  },
  {
   "cell_type": "code",
   "execution_count": 40,
   "id": "3eccbe6c-ebda-40cd-aab1-ad0b06fbaf79",
   "metadata": {},
   "outputs": [
    {
     "data": {
      "text/plain": [
       "<= 0           NaN\n",
       "Lo 30     0.297286\n",
       "Med 40    0.267694\n",
       "Hi 30     0.228059\n",
       "Lo 20     0.270512\n",
       "Qnt 2     0.313064\n",
       "Qnt 3     0.263400\n",
       "Qnt 4     0.240932\n",
       "Hi 20     0.221157\n",
       "Lo 10     0.196156\n",
       "Dec 2     0.338950\n",
       "Dec 3     0.316975\n",
       "Dec 4     0.308758\n",
       "Dec 5     0.267836\n",
       "Dec 6     0.263429\n",
       "Dec 7     0.246313\n",
       "Dec 8     0.240897\n",
       "Dec 9     0.240352\n",
       "Hi 10     0.203030\n",
       "dtype: float64"
      ]
     },
     "execution_count": 40,
     "metadata": {},
     "output_type": "execute_result"
    }
   ],
   "source": [
    "ptk.var_gaussian(ffme, level=1, modified=True)"
   ]
  },
  {
   "cell_type": "markdown",
   "id": "15b7f3c6-7ec8-41f1-bc5b-30e186517b7e",
   "metadata": {},
   "source": [
    "We can compare different VaR methods"
   ]
  },
  {
   "cell_type": "code",
   "execution_count": 42,
   "id": "56f306e9-46a7-47e6-ae2b-f8fb65d9fa32",
   "metadata": {},
   "outputs": [
    {
     "data": {
      "text/plain": [
       "<AxesSubplot:title={'center':'Hedge Fund Indices: VaR at 5%'}>"
      ]
     },
     "execution_count": 42,
     "metadata": {},
     "output_type": "execute_result"
    },
    {
     "data": {
      "image/png": "[encoded data removed]",
      "text/plain": [
       "<Figure size 432x288 with 1 Axes>"
      ]
     },
     "metadata": {
      "needs_background": "light"
     },
     "output_type": "display_data"
    }
   ],
   "source": [
    "var_table = [ptk.var_gaussian(hfi), \n",
    "             ptk.var_gaussian(hfi, modified=True), \n",
    "             ptk.var_historic(hfi)]\n",
    "comparison = pd.concat(var_table, axis=1)\n",
    "comparison.columns=['Gaussian', 'Cornish-Fisher', 'Historic']\n",
    "comparison.plot.bar(title=\"Hedge Fund Indices: VaR at 5%\")"
   ]
  },
  {
   "cell_type": "markdown",
   "id": "7a8c606a-0d05-4a1f-a8b6-bb36f4ca8a39",
   "metadata": {},
   "source": [
    "Note that in some cases, the cornish-fisher VaR is lower i.e. estimates a smaller loss than you would get from a pure gaussian assumption. That can happen if the observed skewness is positive, as is the case for \"Short Selling\" and \"Global Macro\""
   ]
  },
  {
   "cell_type": "code",
   "execution_count": 43,
   "id": "544b5028-b088-4231-a49d-a70dc94bfef3",
   "metadata": {},
   "outputs": [
    {
     "data": {
      "text/plain": [
       "Convertible Arbitrage    -2.639592\n",
       "CTA Global                0.173699\n",
       "Distressed Securities    -1.300842\n",
       "Emerging Markets         -1.167067\n",
       "Equity Market Neutral    -2.124435\n",
       "Event Driven             -1.409154\n",
       "Fixed Income Arbitrage   -3.940320\n",
       "Global Macro              0.982922\n",
       "Long/Short Equity        -0.390227\n",
       "Merger Arbitrage         -1.320083\n",
       "Relative Value           -1.815470\n",
       "Short Selling             0.767975\n",
       "Funds Of Funds           -0.361783\n",
       "dtype: float64"
      ]
     },
     "execution_count": 43,
     "metadata": {},
     "output_type": "execute_result"
    }
   ],
   "source": [
    "ptk.skewness(hfi)"
   ]
  },
  {
   "cell_type": "code",
   "execution_count": null,
   "id": "1630bd4a-1836-4bc4-a0fa-5d0d742c2d87",
   "metadata": {},
   "outputs": [],
   "source": []
  }
 ],
 "metadata": {
  "kernelspec": {
   "display_name": "Python 3",
   "language": "python",
   "name": "python3"
  },
  "language_info": {
   "codemirror_mode": {
    "name": "ipython",
    "version": 3
   },
   "file_extension": ".py",
   "mimetype": "text/x-python",
   "name": "python",
   "nbconvert_exporter": "python",
   "pygments_lexer": "ipython3",
   "version": "3.8.8"
  }
 },
 "nbformat": 4,
 "nbformat_minor": 5
}
