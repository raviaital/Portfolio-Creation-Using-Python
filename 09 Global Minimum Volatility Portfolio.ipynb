{
 "cells": [
  {
   "cell_type": "markdown",
   "id": "96ab5489-49a7-40b0-a225-be07aa9988d0",
   "metadata": {},
   "source": [
    "# Lack of robustness in Markovitz Procedure\n",
    "\n",
    "Although the promise of the Markowitz procedure is exciting, in tends to fall apart in practice. The problem is that we rarely know Expected Returns and Expected Covariance in advance. Our estimates almost certainly contain some estimation error, and we'll see that the procedure is highly sensitive to these errors, which tend to get exaggerated in the portfolio."
   ]
  },
  {
   "cell_type": "code",
   "execution_count": 1,
   "id": "08ddbf17-2509-4aa7-9567-9a33612b92cc",
   "metadata": {},
   "outputs": [],
   "source": [
    "import pandas as pd\n",
    "import numpy as np\n",
    "import portfolio_tool_kit as ptk\n",
    "%load_ext autoreload\n",
    "%autoreload 2\n",
    "%matplotlib inline"
   ]
  },
  {
   "cell_type": "code",
   "execution_count": 2,
   "id": "06a0eafa-cd67-40f5-b76c-b8bfa19f4257",
   "metadata": {},
   "outputs": [],
   "source": [
    "ind = ptk.get_ind_returns()\n",
    "er = ptk.annualized_ret(ind[\"1996\":\"2000\"], 12)\n",
    "cov = ind[\"1996\":\"2000\"].cov()"
   ]
  },
  {
   "cell_type": "markdown",
   "id": "a2b800f5-eaa0-4220-95c2-8185ae8b069d",
   "metadata": {},
   "source": [
    "Let's take a 2 asset portfolio"
   ]
  },
  {
   "cell_type": "code",
   "execution_count": 7,
   "id": "c1c68410-4a6b-4174-a1f3-9f89eb22b729",
   "metadata": {},
   "outputs": [
    {
     "data": {
      "text/plain": [
       "array([0.75040363, 0.24959637])"
      ]
     },
     "execution_count": 7,
     "metadata": {},
     "output_type": "execute_result"
    }
   ],
   "source": [
    "l = [\"Food\",\"Steel\"]\n",
    "ptk.msr(0.1, np.array(er[l]), cov.loc[l,l])"
   ]
  },
  {
   "cell_type": "markdown",
   "id": "58a2235a-c0d1-4760-998f-d920e9783aab",
   "metadata": {},
   "source": [
    "Let's look at the returns of the two assets that dictated those weights"
   ]
  },
  {
   "cell_type": "code",
   "execution_count": 8,
   "id": "1422f693-e4a8-4ce9-91c9-6ed9171f4b1f",
   "metadata": {},
   "outputs": [
    {
     "data": {
      "text/plain": [
       "Food     0.116799\n",
       "Steel    0.115809\n",
       "dtype: float64"
      ]
     },
     "execution_count": 8,
     "metadata": {},
     "output_type": "execute_result"
    }
   ],
   "source": [
    "er[l]"
   ]
  },
  {
   "cell_type": "markdown",
   "id": "0bc6d9c4-dc11-4089-8e7d-756d0055c751",
   "metadata": {},
   "source": [
    "Now assume that we had a really good estimator, and we were off by only a fraction of a percent in our estimate, and we had estimated a return of 11 and 12 percent respectively for Food and Steel"
   ]
  },
  {
   "cell_type": "code",
   "execution_count": 12,
   "id": "e3fc39ba-8dba-4de3-ae99-dbedb38edd68",
   "metadata": {},
   "outputs": [
    {
     "data": {
      "text/plain": [
       "array([0.57930354, 0.42069646])"
      ]
     },
     "execution_count": 12,
     "metadata": {},
     "output_type": "execute_result"
    }
   ],
   "source": [
    "ptk.msr(0.1, np.array([0.11,0.12]),cov.loc[l,l])"
   ]
  },
  {
   "cell_type": "markdown",
   "id": "329525c8-e718-42b3-a509-f61942bed894",
   "metadata": {},
   "source": [
    "Note that the msr value changes even for a fraction of change in estimation. What if we had estimated 10, 13"
   ]
  },
  {
   "cell_type": "code",
   "execution_count": 13,
   "id": "5a9eeb0e-16ab-4415-bdfc-de08639cb600",
   "metadata": {},
   "outputs": [
    {
     "data": {
      "text/plain": [
       "array([0., 1.])"
      ]
     },
     "execution_count": 13,
     "metadata": {},
     "output_type": "execute_result"
    }
   ],
   "source": [
    "ptk.msr(0.1, np.array([0.10, 0.13]), cov.loc[l,l])"
   ]
  },
  {
   "cell_type": "markdown",
   "id": "b43a86f7-7a6a-4a60-aa96-1b4ff13a3082",
   "metadata": {},
   "source": [
    "And if we had made the same estimation error, but the error went the other way (13% and 10%)?"
   ]
  },
  {
   "cell_type": "code",
   "execution_count": 14,
   "id": "6b0a63ec-3f24-4ad5-940b-541f46bd28d0",
   "metadata": {},
   "outputs": [
    {
     "data": {
      "text/plain": [
       "array([1., 0.])"
      ]
     },
     "execution_count": 14,
     "metadata": {},
     "output_type": "execute_result"
    }
   ],
   "source": [
    "ptk.msr(0.1, np.array([0.13, 0.10]), cov.loc[l,l])"
   ]
  },
  {
   "cell_type": "markdown",
   "id": "aaa09718-0993-461c-90f2-cfa4071c5d38",
   "metadata": {},
   "source": [
    "## How to avoid estimation errors?\n",
    "\n",
    "Let's first plot the ef again"
   ]
  },
  {
   "cell_type": "code",
   "execution_count": 26,
   "id": "c4220c72-2ef1-4428-bc2a-0c460a95e33e",
   "metadata": {},
   "outputs": [
    {
     "data": {
      "text/plain": [
       "<AxesSubplot:xlabel='Volatility'>"
      ]
     },
     "execution_count": 26,
     "metadata": {},
     "output_type": "execute_result"
    },
    {
     "data": {
      "image/png": "[encoded data removed]",
      "text/plain": [
       "<Figure size 432x288 with 1 Axes>"
      ]
     },
     "metadata": {
      "needs_background": "light"
     },
     "output_type": "display_data"
    }
   ],
   "source": [
    "ptk.plot_ef(20, er, cov, show_cml=True, riskfree_rate=0.1)"
   ]
  },
  {
   "cell_type": "markdown",
   "id": "062f4a74-46c2-45dd-87d6-c762c0b6de8b",
   "metadata": {},
   "source": [
    "One way to avoid this estimation game is to skip the entire process and just rely on naive diversification, which means hold all stocks with equal weight."
   ]
  },
  {
   "cell_type": "code",
   "execution_count": 27,
   "id": "05242145-0e3b-438c-8734-148443900a0e",
   "metadata": {},
   "outputs": [
    {
     "data": {
      "text/plain": [
       "[<matplotlib.lines.Line2D at 0x7f6039051c10>]"
      ]
     },
     "execution_count": 27,
     "metadata": {},
     "output_type": "execute_result"
    },
    {
     "data": {
      "image/png": "[encoded data removed]",
      "text/plain": [
       "<Figure size 432x288 with 1 Axes>"
      ]
     },
     "metadata": {
      "needs_background": "light"
     },
     "output_type": "display_data"
    }
   ],
   "source": [
    "ax = ptk.plot_ef(20, er, cov, show_cml=True, riskfree_rate=0.1)\n",
    "ax.set_xlim(left = 0)\n",
    "n = er.shape[0]\n",
    "w_ew = np.repeat(1/n, n)\n",
    "r_ew = ptk.portfolio_ret(w_ew, er)\n",
    "vol_ew = ptk.portfolio_vol(w_ew, cov)\n",
    "# add EW\n",
    "ax.plot([vol_ew], [r_ew], color='goldenrod', marker='o', markersize=10)"
   ]
  },
  {
   "cell_type": "markdown",
   "id": "bc8279ee-559c-47ef-8d69-089864e0e55c",
   "metadata": {},
   "source": [
    "Researchers have shown that the EW portfolio is a remarkably good portfolio to hold. In fact, there is overwhelming siupport for the idea that it is a far better portfolio to hold than a cap-weighted equivalent."
   ]
  },
  {
   "cell_type": "markdown",
   "id": "642c9fd2-87df-4780-aa80-dce5b2ea7185",
   "metadata": {},
   "source": [
    "## GMV\n",
    "\n",
    "However, there is another point on the efficient frontier that is very interesting. This is the nose of the hull, which is the portfolio of lowest volatility across all possible portfolios. This is called the Minimum Volatility or the Global Minimum Volatility or GMV portfolio.\n",
    "\n",
    "The interesting thing about it is that if you assume that all returns are the same, the optimizer cannot improve the sharpe ratio through raising returns, and so it must do so my lowering volatility. This means that if we just skip any returns estimation and assume all returns are same, we'd get the weights of the GMV portfolio!"
   ]
  },
  {
   "cell_type": "code",
   "execution_count": 37,
   "id": "4f8badec-1609-4c4b-b848-2772caf713e5",
   "metadata": {},
   "outputs": [],
   "source": [
    "def gmv(cov):\n",
    "    \"\"\"\n",
    "    Returns the weights of the Global Minimum Volatility portfolio\n",
    "    given a covariance matrix\n",
    "    \"\"\"\n",
    "    n = cov.shape[0]\n",
    "    return ptk.msr(0, np.repeat(1, n), cov)"
   ]
  },
  {
   "cell_type": "code",
   "execution_count": 38,
   "id": "b67dfd98-3b04-4856-93c7-17a65f550ef2",
   "metadata": {},
   "outputs": [
    {
     "data": {
      "text/plain": [
       "array([3.13254105e-02, 0.00000000e+00, 8.37379378e-03, 2.38181423e-03,\n",
       "       2.05993122e-13, 7.82312983e-02, 0.00000000e+00, 6.48765295e-02,\n",
       "       4.56560749e-13, 4.31942567e-14, 0.00000000e+00, 4.34075977e-16,\n",
       "       4.06124592e-14, 0.00000000e+00, 0.00000000e+00, 0.00000000e+00,\n",
       "       3.20121475e-13, 1.10118213e-13, 2.43037149e-13, 4.82924059e-01,\n",
       "       3.15167093e-02, 0.00000000e+00, 1.01321297e-01, 3.54471822e-13,\n",
       "       0.00000000e+00, 0.00000000e+00, 8.38588880e-02, 1.15190201e-01,\n",
       "       0.00000000e+00, 0.00000000e+00])"
      ]
     },
     "execution_count": 38,
     "metadata": {},
     "output_type": "execute_result"
    }
   ],
   "source": [
    "gmv(cov)"
   ]
  },
  {
   "cell_type": "code",
   "execution_count": 42,
   "id": "ab759b79-ef46-4791-857b-e4f2fffe687c",
   "metadata": {},
   "outputs": [
    {
     "data": {
      "text/plain": [
       "[<matplotlib.lines.Line2D at 0x7f603892daf0>]"
      ]
     },
     "execution_count": 42,
     "metadata": {},
     "output_type": "execute_result"
    },
    {
     "data": {
      "image/png": "[encoded data removed]",
      "text/plain": [
       "<Figure size 432x288 with 1 Axes>"
      ]
     },
     "metadata": {
      "needs_background": "light"
     },
     "output_type": "display_data"
    }
   ],
   "source": [
    "ax = ptk.plot_ef(20, er, cov, show_cml=True, riskfree_rate=0.1)\n",
    "ax.set_xlim(left = 0)\n",
    "w_gmv = gmv(cov)\n",
    "r_gmv = ptk.portfolio_ret(w_gmv, er)\n",
    "vol_gmv = ptk.portfolio_vol(w_gmv, cov)\n",
    "# add GMV\n",
    "ax.plot([vol_gmv], [r_gmv], color='midnightblue', marker='o', markersize=10)"
   ]
  },
  {
   "cell_type": "markdown",
   "id": "e16f8517-ec09-4dc1-99c6-93cfbd04f5f6",
   "metadata": {},
   "source": [
    "Now let's add both to the toolkit"
   ]
  },
  {
   "cell_type": "code",
   "execution_count": 47,
   "id": "62966b80-4f42-47c4-9a32-d8d83ce34a15",
   "metadata": {},
   "outputs": [
    {
     "data": {
      "text/plain": [
       "<AxesSubplot:xlabel='Volatility'>"
      ]
     },
     "execution_count": 47,
     "metadata": {},
     "output_type": "execute_result"
    },
    {
     "data": {
      "image/png": "[encoded data removed]",
      "text/plain": [
       "<Figure size 432x288 with 1 Axes>"
      ]
     },
     "metadata": {
      "needs_background": "light"
     },
     "output_type": "display_data"
    }
   ],
   "source": [
    "ptk.plot_ef(20, er, cov, show_cml=True, riskfree_rate=0.1, show_ew=True, show_gmv=True)"
   ]
  }
 ],
 "metadata": {
  "kernelspec": {
   "display_name": "Python 3",
   "language": "python",
   "name": "python3"
  },
  "language_info": {
   "codemirror_mode": {
    "name": "ipython",
    "version": 3
   },
   "file_extension": ".py",
   "mimetype": "text/x-python",
   "name": "python",
   "nbconvert_exporter": "python",
   "pygments_lexer": "ipython3",
   "version": "3.8.8"
  }
 },
 "nbformat": 4,
 "nbformat_minor": 5
}
